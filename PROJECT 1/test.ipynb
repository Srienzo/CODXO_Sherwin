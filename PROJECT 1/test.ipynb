{
 "cells": [
  {
   "cell_type": "markdown",
   "metadata": {},
   "source": [
    "## FAKE NEWS DETECTION PROJECT @ CODXO https://github.com/Srienzo/CODXO_Sherwin"
   ]
  },
  {
   "cell_type": "code",
   "execution_count": 4,
   "metadata": {},
   "outputs": [
    {
     "name": "stdout",
     "output_type": "stream",
     "text": [
      "   Unnamed: 0                                              title  \\\n",
      "0        8476                       You Can Smell Hillary’s Fear   \n",
      "1       10294  Watch The Exact Moment Paul Ryan Committed Pol...   \n",
      "2        3608        Kerry to go to Paris in gesture of sympathy   \n",
      "3       10142  Bernie supporters on Twitter erupt in anger ag...   \n",
      "4         875   The Battle of New York: Why This Primary Matters   \n",
      "\n",
      "                                                text label  \n",
      "0  daniel greenfield a shillman journalism fellow...  FAKE  \n",
      "1  google pinterest digg linkedin reddit stumbleu...  FAKE  \n",
      "2  u s secretary of state john f kerry said monda...  REAL  \n",
      "3  kaydee king kaydeeking november the lesson fro...  FAKE  \n",
      "4  it s primary day in new york and front runners...  REAL  \n",
      "Best parameters: {'pac__C': 0.1, 'tfidf__max_df': 1.0, 'tfidf__ngram_range': (1, 1)}\n",
      "Accuracy: 93.45%\n",
      "Confusion Matrix:\n",
      "[[589  39]\n",
      " [ 44 595]]\n"
     ]
    },
    {
     "data": {
      "image/png": "[encoded data removed]",
      "text/plain": [
       "<Figure size 200x200 with 2 Axes>"
      ]
     },
     "metadata": {},
     "output_type": "display_data"
    },
    {
     "name": "stdout",
     "output_type": "stream",
     "text": [
      "Classification Report:\n",
      "              precision    recall  f1-score   support\n",
      "\n",
      "        FAKE       0.93      0.94      0.93       628\n",
      "        REAL       0.94      0.93      0.93       639\n",
      "\n",
      "    accuracy                           0.93      1267\n",
      "   macro avg       0.93      0.93      0.93      1267\n",
      "weighted avg       0.93      0.93      0.93      1267\n",
      "\n",
      "Model saved as news_classifier_model.pkl\n"
     ]
    },
    {
     "name": "stdin",
     "output_type": "stream",
     "text": [
      "\n",
      "Do you want to classify a piece of news? (yes/no):  yes\n"
     ]
    },
    {
     "name": "stdout",
     "output_type": "stream",
     "text": [
      "\n",
      "Sample news from the dataset:\n",
      "1. You Can Smell Hillary’s Fear\n",
      "2. Watch The Exact Moment Paul Ryan Committed Political Suicide At A Trump Rally (VIDEO)\n",
      "3. Kerry to go to Paris in gesture of sympathy\n",
      "4. Bernie supporters on Twitter erupt in anger against the DNC: 'We tried to warn you!'\n",
      "5. The Battle of New York: Why This Primary Matters\n",
      "6. Tehran, USA\n",
      "7. Girl Horrified At What She Watches Boyfriend Do After He Left FaceTime On\n",
      "8. ‘Britain’s Schindler’ Dies at 106\n",
      "9. Fact check: Trump and Clinton at the 'commander-in-chief' forum\n",
      "10. Iran reportedly makes new push for uranium concessions in nuclear talks\n"
     ]
    },
    {
     "name": "stdin",
     "output_type": "stream",
     "text": [
      "Enter the number corresponding to the news you want to classify (1-10):  5\n"
     ]
    },
    {
     "name": "stdout",
     "output_type": "stream",
     "text": [
      "\n",
      "The news is classified as: REAL\n"
     ]
    },
    {
     "name": "stdin",
     "output_type": "stream",
     "text": [
      "\n",
      "Do you want to classify a piece of news? (yes/no):  yes\n"
     ]
    },
    {
     "name": "stdout",
     "output_type": "stream",
     "text": [
      "\n",
      "Sample news from the dataset:\n",
      "1. You Can Smell Hillary’s Fear\n",
      "2. Watch The Exact Moment Paul Ryan Committed Political Suicide At A Trump Rally (VIDEO)\n",
      "3. Kerry to go to Paris in gesture of sympathy\n",
      "4. Bernie supporters on Twitter erupt in anger against the DNC: 'We tried to warn you!'\n",
      "5. The Battle of New York: Why This Primary Matters\n",
      "6. Tehran, USA\n",
      "7. Girl Horrified At What She Watches Boyfriend Do After He Left FaceTime On\n",
      "8. ‘Britain’s Schindler’ Dies at 106\n",
      "9. Fact check: Trump and Clinton at the 'commander-in-chief' forum\n",
      "10. Iran reportedly makes new push for uranium concessions in nuclear talks\n"
     ]
    },
    {
     "name": "stdin",
     "output_type": "stream",
     "text": [
      "Enter the number corresponding to the news you want to classify (1-10):  6\n"
     ]
    },
    {
     "name": "stdout",
     "output_type": "stream",
     "text": [
      "\n",
      "The news is classified as: FAKE\n"
     ]
    },
    {
     "name": "stdin",
     "output_type": "stream",
     "text": [
      "\n",
      "Do you want to classify a piece of news? (yes/no):  no\n"
     ]
    },
    {
     "name": "stdout",
     "output_type": "stream",
     "text": [
      "Exiting the classification loop.\n"
     ]
    }
   ],
   "source": [
    "import pandas as pd\n",
    "import numpy as np\n",
    "from sklearn.model_selection import train_test_split, GridSearchCV\n",
    "from sklearn.feature_extraction.text import TfidfVectorizer\n",
    "from sklearn.linear_model import PassiveAggressiveClassifier\n",
    "from sklearn.metrics import accuracy_score, confusion_matrix, classification_report\n",
    "from sklearn.pipeline import Pipeline\n",
    "import joblib\n",
    "import re\n",
    "import matplotlib.pyplot as plt\n",
    "import seaborn as sns\n",
    "\n",
    "# Function to clean the text data\n",
    "def clean_text(text):\n",
    "    return \" \".join(re.sub(\"[^a-zA-Z]\", \" \", text).lower().split())\n",
    "\n",
    "# Load and clean the dataset\n",
    "df = pd.read_csv('news.csv')\n",
    "df['text'] = df['text'].apply(clean_text)\n",
    "print(df.head())\n",
    "\n",
    "# Split the data\n",
    "x_train, x_test, y_train, y_test = train_test_split(df['text'], df['label'], test_size=0.2, random_state=42)\n",
    "\n",
    "# Create a pipeline\n",
    "pipeline = Pipeline([\n",
    "    ('tfidf', TfidfVectorizer(stop_words='english', max_df=0.7)),\n",
    "    ('pac', PassiveAggressiveClassifier(max_iter=50))\n",
    "])\n",
    "\n",
    "# Reduce the size of the dataset for GridSearchCV\n",
    "x_train_small, _, y_train_small, _ = train_test_split(x_train, y_train, test_size=0.9, random_state=42)\n",
    "\n",
    "# Set up GridSearchCV\n",
    "param_grid = {\n",
    "    'tfidf__max_df': [0.7, 1.0],\n",
    "    'tfidf__ngram_range': [(1, 1)],\n",
    "    'pac__C': [0.1, 1.0]\n",
    "}\n",
    "\n",
    "grid_search = GridSearchCV(pipeline, param_grid, cv=3, scoring='accuracy', n_jobs=-1)\n",
    "grid_search.fit(x_train_small, y_train_small)\n",
    "print(f'Best parameters: {grid_search.best_params_}')\n",
    "\n",
    "# Train and evaluate the best model\n",
    "best_model = grid_search.best_estimator_\n",
    "best_model.fit(x_train, y_train)\n",
    "y_pred = best_model.predict(x_test)\n",
    "print(f'Accuracy: {accuracy_score(y_test, y_pred) * 100:.2f}%')\n",
    "\n",
    "# Confusion Matrix\n",
    "confusion = confusion_matrix(y_test, y_pred, labels=['FAKE', 'REAL'])\n",
    "print('Confusion Matrix:')\n",
    "print(confusion)\n",
    "\n",
    "# Plot Confusion Matrix\n",
    "plt.figure(figsize=(2, 2))\n",
    "sns.heatmap(confusion, annot=True, fmt='d', cmap='Blues', xticklabels=['FAKE', 'REAL'], yticklabels=['FAKE', 'REAL'])\n",
    "plt.xlabel('Predicted')\n",
    "plt.ylabel('Actual')\n",
    "plt.title('Confusion Matrix')\n",
    "plt.show()\n",
    "\n",
    "# Classification Report\n",
    "print('Classification Report:')\n",
    "print(classification_report(y_test, y_pred, target_names=['FAKE', 'REAL']))\n",
    "\n",
    "# Save the model\n",
    "joblib.dump(best_model, 'news_classifier_model.pkl')\n",
    "print('Model saved as news_classifier_model.pkl')\n",
    "\n",
    "# Predict function\n",
    "def predict_news(text):\n",
    "    return best_model.predict([clean_text(text)])[0]\n",
    "\n",
    "# Load sample news for user input testing\n",
    "def get_sample_news(df):\n",
    "    print(\"\\nSample news from the dataset:\")\n",
    "    for i in range(10):\n",
    "        print(f\"{i + 1}. {df['title'].iloc[i]}\")\n",
    "    index = int(input(\"Enter the number corresponding to the news you want to classify (1-10): \")) - 1\n",
    "    return df['text'].iloc[index]\n",
    "\n",
    "# User input loop\n",
    "while True:\n",
    "    choice = input(\"\\nDo you want to classify a piece of news? (yes/no): \").strip().lower()\n",
    "    if choice == 'yes':\n",
    "        news_text = get_sample_news(df)\n",
    "        print(f\"\\nThe news is classified as: {predict_news(news_text)}\")\n",
    "    elif choice == 'no':\n",
    "        print(\"Exiting the classification loop.\")\n",
    "        break\n",
    "    else:\n",
    "        print(\"Invalid input. Please enter 'yes' or 'no'.\")\n"
   ]
  },
  {
   "cell_type": "code",
   "execution_count": null,
   "metadata": {},
   "outputs": [],
   "source": []
  }
 ],
 "metadata": {
  "kernelspec": {
   "display_name": "Python 3 (ipykernel)",
   "language": "python",
   "name": "python3"
  },
  "language_info": {
   "codemirror_mode": {
    "name": "ipython",
    "version": 3
   },
   "file_extension": ".py",
   "mimetype": "text/x-python",
   "name": "python",
   "nbconvert_exporter": "python",
   "pygments_lexer": "ipython3",
   "version": "3.12.3"
  }
 },
 "nbformat": 4,
 "nbformat_minor": 4
}
